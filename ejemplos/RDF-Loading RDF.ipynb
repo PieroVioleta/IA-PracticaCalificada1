{
 "cells": [
  {
   "cell_type": "markdown",
   "metadata": {},
   "source": [
    "# Carga y guardado"
   ]
  },
  {
   "cell_type": "code",
   "execution_count": 1,
   "metadata": {},
   "outputs": [
    {
     "name": "stdout",
     "output_type": "stream",
     "text": [
      "Requirement already satisfied: rdflib in /home/renzoqamao/my_project_dir/my_project_env/lib/python3.8/site-packages (5.0.0)\r\n",
      "Requirement already satisfied: six in /home/renzoqamao/my_project_dir/my_project_env/lib/python3.8/site-packages (from rdflib) (1.15.0)\r\n",
      "Requirement already satisfied: pyparsing in /home/renzoqamao/my_project_dir/my_project_env/lib/python3.8/site-packages (from rdflib) (2.4.7)\r\n",
      "Requirement already satisfied: isodate in /home/renzoqamao/my_project_dir/my_project_env/lib/python3.8/site-packages (from rdflib) (0.6.0)\r\n"
     ]
    }
   ],
   "source": [
    "!pip install rdflib"
   ]
  },
  {
   "cell_type": "code",
   "execution_count": 2,
   "metadata": {},
   "outputs": [],
   "source": [
    "import rdflib"
   ]
  },
  {
   "cell_type": "code",
   "execution_count": 3,
   "metadata": {},
   "outputs": [],
   "source": [
    "# inicializando un grafo\n",
    "g = rdflib.Graph()"
   ]
  },
  {
   "cell_type": "code",
   "execution_count": 4,
   "metadata": {},
   "outputs": [
    {
     "data": {
      "text/plain": [
       "<Graph identifier=Ndc39fe9f8814451d9802edbfc568583a (<class 'rdflib.graph.Graph'>)>"
      ]
     },
     "execution_count": 4,
     "metadata": {},
     "output_type": "execute_result"
    }
   ],
   "source": [
    "g.parse('http://dbpedia.org/resource/Python_(programming_language)')"
   ]
  },
  {
   "cell_type": "code",
   "execution_count": 5,
   "metadata": {},
   "outputs": [
    {
     "name": "stdout",
     "output_type": "stream",
     "text": [
      "5027\n"
     ]
    }
   ],
   "source": [
    "print(len(g))"
   ]
  },
  {
   "cell_type": "code",
   "execution_count": 6,
   "metadata": {},
   "outputs": [
    {
     "name": "stdout",
     "output_type": "stream",
     "text": [
      "'RDF-Loading RDF.ipynb'   RDF-Python.ipynb\r\n"
     ]
    }
   ],
   "source": [
    "%ls"
   ]
  },
  {
   "cell_type": "code",
   "execution_count": 9,
   "metadata": {},
   "outputs": [
    {
     "name": "stdout",
     "output_type": "stream",
     "text": [
      "<?xml version=\"1.0\" encoding=\"UTF-8\"?>\r\n",
      "<rdf:RDF\r\n",
      "\txmlns:ex=\"http://example.org/\"\r\n",
      "\txmlns:rdf=\"http://www.w3.org/1999/02/22-rdf-syntax-ns#\"\r\n",
      ">\r\n",
      "\t<rdf:Description rdf:about=\"http://example.org/Subject1\">\r\n",
      "\t\t<ex:predicate1 xml:lang=\"en\">object1</ex:predicate1>\r\n",
      "\t\t</rdf:Description>\r\n",
      "\t<rdf:Description rdf:about=\"http://example.org/Subject2\">\r\n",
      "\t\t<ex:predicate2 xml:lang=\"en\">object2</ex:predicate2>\r\n",
      "\t\t</rdf:Description>\r\n",
      "</rdf:RDF>\r\n"
     ]
    }
   ],
   "source": [
    "%cat example.xml"
   ]
  },
  {
   "cell_type": "code",
   "execution_count": 10,
   "metadata": {},
   "outputs": [
    {
     "data": {
      "text/plain": [
       "<Graph identifier=Ncd6b4a7b55a2413eab9d650bec533de8 (<class 'rdflib.graph.Graph'>)>"
      ]
     },
     "execution_count": 10,
     "metadata": {},
     "output_type": "execute_result"
    }
   ],
   "source": [
    "# Analizar el archivo en un archivo RDF\n",
    "h = rdflib.Graph()\n",
    "format_ = rdflib.util.guess_format('example.xml')\n",
    "h.parse('example.xml', format=format_)"
   ]
  },
  {
   "cell_type": "code",
   "execution_count": 11,
   "metadata": {},
   "outputs": [
    {
     "name": "stdout",
     "output_type": "stream",
     "text": [
      "Grafo h tiene 2 declaraciones.\n",
      "<?xml version=\"1.0\" encoding=\"UTF-8\"?>\n",
      "<rdf:RDF\n",
      "   xmlns:ex=\"http://example.org/\"\n",
      "   xmlns:rdf=\"http://www.w3.org/1999/02/22-rdf-syntax-ns#\"\n",
      ">\n",
      "  <rdf:Description rdf:about=\"http://example.org/Subject1\">\n",
      "    <ex:predicate1 xml:lang=\"en\">object1</ex:predicate1>\n",
      "  </rdf:Description>\n",
      "  <rdf:Description rdf:about=\"http://example.org/Subject2\">\n",
      "    <ex:predicate2 xml:lang=\"en\">object2</ex:predicate2>\n",
      "  </rdf:Description>\n",
      "</rdf:RDF>\n",
      "\n"
     ]
    }
   ],
   "source": [
    "print( f'Grafo h tiene {len(h)} declaraciones.' )\n",
    "print( h.serialize().decode('u8') )"
   ]
  },
  {
   "cell_type": "code",
   "execution_count": 12,
   "metadata": {},
   "outputs": [
    {
     "name": "stdout",
     "output_type": "stream",
     "text": [
      "(rdflib.term.URIRef('http://example.org/Subject1'), rdflib.term.URIRef('http://example.org/predicate1'), rdflib.term.Literal('object1', lang='en'))\n",
      "(rdflib.term.URIRef('http://example.org/Subject2'), rdflib.term.URIRef('http://example.org/predicate2'), rdflib.term.Literal('object2', lang='en'))\n"
     ]
    }
   ],
   "source": [
    "for triples in h:\n",
    "    print(triples)"
   ]
  },
  {
   "cell_type": "code",
   "execution_count": 13,
   "metadata": {},
   "outputs": [],
   "source": [
    "data = '''<http://bigasterisk.com/foaf.rdf#drewp> <http://www.w3.org/1999/02/22-rdf-syntax-ns#type> <http://xmlns.com/foaf/0.1/Person> .\n",
    "<http://bigasterisk.com/foaf.rdf#drewp> <http://example.com/says> \"Hello world\" .'''"
   ]
  },
  {
   "cell_type": "code",
   "execution_count": 14,
   "metadata": {},
   "outputs": [
    {
     "name": "stdout",
     "output_type": "stream",
     "text": [
      "El grafo j tiene 2 declaraciones\n"
     ]
    }
   ],
   "source": [
    "# Analizar en un RDF el string\n",
    "j = rdflib.Graph()\n",
    "j.parse(data=data, format='n3')\n",
    "print(f'El grafo j tiene {len(j)} declaraciones')"
   ]
  },
  {
   "cell_type": "code",
   "execution_count": 15,
   "metadata": {},
   "outputs": [
    {
     "name": "stdout",
     "output_type": "stream",
     "text": [
      "http://bigasterisk.com/foaf.rdf#drewp http://example.com/says Hello world\n",
      "http://bigasterisk.com/foaf.rdf#drewp http://www.w3.org/1999/02/22-rdf-syntax-ns#type http://xmlns.com/foaf/0.1/Person\n"
     ]
    }
   ],
   "source": [
    "for s, p, o in j:\n",
    "    print(s, p, o)"
   ]
  },
  {
   "cell_type": "code",
   "execution_count": 16,
   "metadata": {},
   "outputs": [
    {
     "name": "stdout",
     "output_type": "stream",
     "text": [
      "@prefix ns1: <http://example.com/> .\n",
      "\n",
      "<http://bigasterisk.com/foaf.rdf#drewp> a <http://xmlns.com/foaf/0.1/Person> ;\n",
      "    ns1:says \"Hello world\" .\n",
      "\n",
      "\n"
     ]
    }
   ],
   "source": [
    "# Imprime el gráfico completo en formato rdf turtle\n",
    "print( j.serialize(format='ttl').decode('u8'))"
   ]
  },
  {
   "cell_type": "code",
   "execution_count": 17,
   "metadata": {},
   "outputs": [],
   "source": [
    "h.serialize('example.nt', format='nt')"
   ]
  },
  {
   "cell_type": "code",
   "execution_count": 18,
   "metadata": {},
   "outputs": [
    {
     "name": "stdout",
     "output_type": "stream",
     "text": [
      " example.nt   example.xml  'RDF-Loading RDF.ipynb'   RDF-Python.ipynb\r\n"
     ]
    }
   ],
   "source": [
    "%ls"
   ]
  },
  {
   "cell_type": "code",
   "execution_count": 19,
   "metadata": {},
   "outputs": [
    {
     "name": "stdout",
     "output_type": "stream",
     "text": [
      "<http://example.org/Subject1> <http://example.org/predicate1> \"object1\"@en .\r\n",
      "<http://example.org/Subject2> <http://example.org/predicate2> \"object2\"@en .\r\n",
      "\r\n"
     ]
    }
   ],
   "source": [
    "%cat example.nt"
   ]
  },
  {
   "cell_type": "code",
   "execution_count": null,
   "metadata": {},
   "outputs": [],
   "source": []
  }
 ],
 "metadata": {
  "kernelspec": {
   "display_name": "Python 3",
   "language": "python",
   "name": "python3"
  },
  "language_info": {
   "codemirror_mode": {
    "name": "ipython",
    "version": 3
   },
   "file_extension": ".py",
   "mimetype": "text/x-python",
   "name": "python",
   "nbconvert_exporter": "python",
   "pygments_lexer": "ipython3",
   "version": "3.8.5"
  }
 },
 "nbformat": 4,
 "nbformat_minor": 4
}
