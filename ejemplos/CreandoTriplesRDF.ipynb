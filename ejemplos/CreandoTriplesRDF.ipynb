{
 "cells": [
  {
   "cell_type": "markdown",
   "metadata": {},
   "source": [
    "# Creando Triples RDF\n",
    "RDF nos permite hacer declaraciones sobre recursos. Una declaración siempre tiene la siguiente estructura: \n",
    "\\<subject> \\<predicate> \\<object>.\n",
    "\n",
    "Una declaración RDF expresa una relación entre dos recursos. El sujeto y el objeto representan los dos recursos que se relacionan; el predicado representa la naturaleza de su relación. La relación se expresa de forma direccional (de sujeto a objeto) y en RDF se denomina propiedad. Debido a que las declaraciones RDF constan de tres elementos, se denominan triples."
   ]
  },
  {
   "cell_type": "code",
   "execution_count": 1,
   "metadata": {},
   "outputs": [
    {
     "name": "stdout",
     "output_type": "stream",
     "text": [
      "Requirement already satisfied: rdflib in /home/renzoqamao/my_project_dir/my_project_env/lib/python3.8/site-packages (5.0.0)\n",
      "Requirement already satisfied: isodate in /home/renzoqamao/my_project_dir/my_project_env/lib/python3.8/site-packages (from rdflib) (0.6.0)\n",
      "Requirement already satisfied: pyparsing in /home/renzoqamao/my_project_dir/my_project_env/lib/python3.8/site-packages (from rdflib) (2.4.7)\n",
      "Requirement already satisfied: six in /home/renzoqamao/my_project_dir/my_project_env/lib/python3.8/site-packages (from rdflib) (1.15.0)\n"
     ]
    }
   ],
   "source": [
    "!pip install rdflib"
   ]
  },
  {
   "cell_type": "markdown",
   "metadata": {},
   "source": [
    "# Creando Nodos\n",
    "Los sujetos y objetos de los triples componen los nodos en el gráfico donde los nodos son referencias URI, nodos en blanco o literales. \n",
    "En RDFLib, estos tipos de nodos están representados por las clases **URIRef**, **BNode**, **Literal**. Tanto URIRefs como Bnodes pueden considerarse recursos, como una persona, una empresa, un sitio web, etc.\n",
    "\n",
    "* Un BNode es un nodo donde no se conoce el URI exacto.\n",
    "* Un URIRef es un nodo donde se conoce el URI exacto. URIRefs también se utilizan para representar las propiedades / predicados en el gráfico RDF.\n",
    "* Los literales representan valores de atributo, como un nombre, una fecha, un número, etc. Los valores literales más comunes son los tipos de datos XML, p. cadena, int ..\n",
    "\n",
    "# Ejemplo de RDF Graph\n",
    "![RDF Graph](https://www.w3.org/TR/rdf11-primer/example-graph-iris.jpg)\n",
    "\n",
    "## (informal) Representación del grafico\n",
    "* `<Bob> <is a> <person>.`\n",
    "* `<Bob> <is a friend of> <Alice>.`,\n",
    "* `<Bob> <is born on> <the 4th of July 1990>.`,\n",
    "* `<Bob> <is interested in> <the Mona Lisa>.`,\n",
    "* `<the Mona Lisa> <was created by> <Leonardo da Vinci>.`,\n",
    "* `<the video 'La Joconde à Washington'> <is about> <the Mona Lisa>`"
   ]
  },
  {
   "cell_type": "code",
   "execution_count": 2,
   "metadata": {},
   "outputs": [],
   "source": [
    "from rdflib import URIRef, BNode, Literal, Namespace\n",
    "from rdflib.namespace import FOAF, DCTERMS, XSD, RDF, SDO\n",
    "\n",
    "mona_lisa = URIRef('http://www.wikidata.org/entity/Q12418')\n",
    "davinci = URIRef('http://dbpedia.org/resource/Leonardo_da_Vinci')\n",
    "lajoconde = URIRef('http://data.europeana.eu/item/04802/243FA8618938F4117025F17A8B813C5F9AA4D619')\n",
    "\n",
    "EX = Namespace('http://example.org/')\n",
    "bob = EX['Bob']\n",
    "alice = EX['Alice']\n",
    "\n",
    "birth_date = Literal(\"1990-07-04\", datatype=XSD['date'])\n",
    "title = Literal('Mona Lisa', lang='en')"
   ]
  },
  {
   "cell_type": "code",
   "execution_count": 3,
   "metadata": {},
   "outputs": [
    {
     "data": {
      "text/plain": [
       "rdflib.term.Literal('Mona Lisa', lang='en')"
      ]
     },
     "execution_count": 3,
     "metadata": {},
     "output_type": "execute_result"
    }
   ],
   "source": [
    "title"
   ]
  },
  {
   "cell_type": "code",
   "execution_count": 4,
   "metadata": {},
   "outputs": [],
   "source": [
    "from rdflib import Graph\n",
    "g = Graph()\n",
    "\n",
    "# Bind prefix to namespace\n",
    "g.bind('ex', EX)\n",
    "g.bind('foaf', FOAF)\n",
    "g.bind('schema', SDO)\n",
    "g.bind('dcterms', DCTERMS)\n",
    "\n",
    "g.add((bob, RDF.type, FOAF.Person))\n",
    "g.add((bob, FOAF.knows, alice))\n",
    "g.add((bob, FOAF['topic_interest'], mona_lisa))\n",
    "g.add((bob, SDO['birthDate'], birth_date))\n",
    "g.add((mona_lisa, DCTERMS['creator'], davinci))\n",
    "g.add((mona_lisa, DCTERMS['title'], title))\n",
    "g.add((lajoconde, DCTERMS['subject'], mona_lisa))"
   ]
  },
  {
   "cell_type": "code",
   "execution_count": 5,
   "metadata": {},
   "outputs": [
    {
     "name": "stdout",
     "output_type": "stream",
     "text": [
      "@prefix dcterms: <http://purl.org/dc/terms/> .\n",
      "@prefix ex: <http://example.org/> .\n",
      "@prefix foaf: <http://xmlns.com/foaf/0.1/> .\n",
      "@prefix schema: <https://schema.org/> .\n",
      "@prefix xsd: <http://www.w3.org/2001/XMLSchema#> .\n",
      "\n",
      "<http://data.europeana.eu/item/04802/243FA8618938F4117025F17A8B813C5F9AA4D619> dcterms:subject <http://www.wikidata.org/entity/Q12418> .\n",
      "\n",
      "ex:Bob a foaf:Person ;\n",
      "    foaf:knows ex:Alice ;\n",
      "    foaf:topic_interest <http://www.wikidata.org/entity/Q12418> ;\n",
      "    schema:birthDate \"1990-07-04\"^^xsd:date .\n",
      "\n",
      "<http://www.wikidata.org/entity/Q12418> dcterms:creator <http://dbpedia.org/resource/Leonardo_da_Vinci> ;\n",
      "    dcterms:title \"Mona Lisa\"@en .\n",
      "\n",
      "\n"
     ]
    }
   ],
   "source": [
    "print(g.serialize(format='ttl').decode('u8'))"
   ]
  },
  {
   "cell_type": "code",
   "execution_count": 6,
   "metadata": {},
   "outputs": [],
   "source": [
    "# Bind prefix to namespace\n",
    "g.bind('ex', EX)\n",
    "g.bind('foaf', FOAF)\n",
    "g.bind('schema', SDO)\n",
    "g.bind('dcterms', DCTERMS)"
   ]
  },
  {
   "cell_type": "code",
   "execution_count": 7,
   "metadata": {},
   "outputs": [
    {
     "name": "stdout",
     "output_type": "stream",
     "text": [
      "xml http://www.w3.org/XML/1998/namespace\n",
      "rdf http://www.w3.org/1999/02/22-rdf-syntax-ns#\n",
      "rdfs http://www.w3.org/2000/01/rdf-schema#\n",
      "xsd http://www.w3.org/2001/XMLSchema#\n",
      "ex http://example.org/\n",
      "foaf http://xmlns.com/foaf/0.1/\n",
      "schema https://schema.org/\n",
      "dcterms http://purl.org/dc/terms/\n"
     ]
    }
   ],
   "source": [
    "for prefix, ns in g.namespaces():\n",
    "    print(prefix, ns)"
   ]
  },
  {
   "cell_type": "code",
   "execution_count": 8,
   "metadata": {},
   "outputs": [],
   "source": [
    "# Replace Literal value\n",
    "g.set((bob, SDO['birthDate'], Literal('1990-01-01', datatype=XSD.date)))\n",
    "g.set((mona_lisa, DCTERMS['title'], Literal('La Joconde', lang='fr')))"
   ]
  },
  {
   "cell_type": "code",
   "execution_count": 9,
   "metadata": {},
   "outputs": [
    {
     "name": "stdout",
     "output_type": "stream",
     "text": [
      "@prefix dcterms: <http://purl.org/dc/terms/> .\n",
      "@prefix ex: <http://example.org/> .\n",
      "@prefix foaf: <http://xmlns.com/foaf/0.1/> .\n",
      "@prefix schema: <https://schema.org/> .\n",
      "@prefix xsd: <http://www.w3.org/2001/XMLSchema#> .\n",
      "\n",
      "<http://data.europeana.eu/item/04802/243FA8618938F4117025F17A8B813C5F9AA4D619> dcterms:subject <http://www.wikidata.org/entity/Q12418> .\n",
      "\n",
      "ex:Bob a foaf:Person ;\n",
      "    foaf:knows ex:Alice ;\n",
      "    foaf:topic_interest <http://www.wikidata.org/entity/Q12418> ;\n",
      "    schema:birthDate \"1990-01-01\"^^xsd:date .\n",
      "\n",
      "<http://www.wikidata.org/entity/Q12418> dcterms:creator <http://dbpedia.org/resource/Leonardo_da_Vinci> ;\n",
      "    dcterms:title \"La Joconde\"@fr .\n",
      "\n",
      "\n"
     ]
    }
   ],
   "source": [
    "print(g.serialize(format='ttl').decode('u8'))"
   ]
  },
  {
   "cell_type": "code",
   "execution_count": 10,
   "metadata": {},
   "outputs": [],
   "source": [
    "# Remove triples from graph\n",
    "g.remove((mona_lisa, None, None))"
   ]
  },
  {
   "cell_type": "code",
   "execution_count": 11,
   "metadata": {},
   "outputs": [
    {
     "name": "stdout",
     "output_type": "stream",
     "text": [
      "@prefix dcterms: <http://purl.org/dc/terms/> .\n",
      "@prefix ex: <http://example.org/> .\n",
      "@prefix foaf: <http://xmlns.com/foaf/0.1/> .\n",
      "@prefix schema: <https://schema.org/> .\n",
      "@prefix xsd: <http://www.w3.org/2001/XMLSchema#> .\n",
      "\n",
      "<http://data.europeana.eu/item/04802/243FA8618938F4117025F17A8B813C5F9AA4D619> dcterms:subject <http://www.wikidata.org/entity/Q12418> .\n",
      "\n",
      "ex:Bob a foaf:Person ;\n",
      "    foaf:knows ex:Alice ;\n",
      "    foaf:topic_interest <http://www.wikidata.org/entity/Q12418> ;\n",
      "    schema:birthDate \"1990-01-01\"^^xsd:date .\n",
      "\n",
      "\n"
     ]
    }
   ],
   "source": [
    "print(g.serialize(format='ttl').decode('utf-8'))"
   ]
  },
  {
   "cell_type": "code",
   "execution_count": null,
   "metadata": {},
   "outputs": [],
   "source": []
  }
 ],
 "metadata": {
  "kernelspec": {
   "display_name": "Python 3",
   "language": "python",
   "name": "python3"
  },
  "language_info": {
   "codemirror_mode": {
    "name": "ipython",
    "version": 3
   },
   "file_extension": ".py",
   "mimetype": "text/x-python",
   "name": "python",
   "nbconvert_exporter": "python",
   "pygments_lexer": "ipython3",
   "version": "3.8.5"
  }
 },
 "nbformat": 4,
 "nbformat_minor": 4
}
