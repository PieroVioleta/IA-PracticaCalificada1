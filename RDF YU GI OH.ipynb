{
 "cells": [
  {
   "cell_type": "markdown",
   "id": "9f59fec8",
   "metadata": {},
   "source": [
    "**Borrador 1**\n",
    "**Web Scrping**"
   ]
  },
  {
   "cell_type": "code",
   "execution_count": 1,
   "id": "9d0a55c5",
   "metadata": {
    "collapsed": true
   },
   "outputs": [
    {
     "name": "stdout",
     "output_type": "stream",
     "text": [
      "Requirement already satisfied: requests in c:\\users\\dulce hogar\\appdata\\local\\programs\\python\\python39\\lib\\site-packages (2.25.1)\n",
      "Requirement already satisfied: certifi>=2017.4.17 in c:\\users\\dulce hogar\\appdata\\local\\programs\\python\\python39\\lib\\site-packages (from requests) (2020.12.5)\n",
      "Requirement already satisfied: chardet<5,>=3.0.2 in c:\\users\\dulce hogar\\appdata\\local\\programs\\python\\python39\\lib\\site-packages (from requests) (4.0.0)\n",
      "Requirement already satisfied: idna<3,>=2.5 in c:\\users\\dulce hogar\\appdata\\local\\programs\\python\\python39\\lib\\site-packages (from requests) (2.10)\n",
      "Requirement already satisfied: urllib3<1.27,>=1.21.1 in c:\\users\\dulce hogar\\appdata\\local\\programs\\python\\python39\\lib\\site-packages (from requests) (1.26.4)\n"
     ]
    },
    {
     "name": "stderr",
     "output_type": "stream",
     "text": [
      "WARNING: Value for scheme.headers does not match. Please report this to <https://github.com/pypa/pip/issues/9617>\n",
      "distutils: c:\\users\\dulce hogar\\appdata\\local\\programs\\python\\python39\\Include\\UNKNOWN\n",
      "sysconfig: c:\\users\\dulce hogar\\appdata\\local\\programs\\python\\python39\\Include\n",
      "WARNING: Additional context:\n",
      "user = False\n",
      "home = None\n",
      "root = None\n",
      "prefix = None\n",
      "WARNING: Value for scheme.headers does not match. Please report this to <https://github.com/pypa/pip/issues/9617>\n",
      "distutils: c:\\users\\dulce hogar\\appdata\\local\\programs\\python\\python39\\Include\\UNKNOWN\n",
      "sysconfig: c:\\users\\dulce hogar\\appdata\\local\\programs\\python\\python39\\Include\n",
      "WARNING: Additional context:\n",
      "user = False\n",
      "home = None\n",
      "root = None\n",
      "prefix = None\n"
     ]
    },
    {
     "name": "stdout",
     "output_type": "stream",
     "text": [
      "Requirement already satisfied: bs4 in c:\\users\\dulce hogar\\appdata\\local\\programs\\python\\python39\\lib\\site-packages (0.0.1)\n",
      "Requirement already satisfied: beautifulsoup4 in c:\\users\\dulce hogar\\appdata\\local\\programs\\python\\python39\\lib\\site-packages (from bs4) (4.9.3)\n",
      "Requirement already satisfied: soupsieve>1.2 in c:\\users\\dulce hogar\\appdata\\local\\programs\\python\\python39\\lib\\site-packages (from beautifulsoup4->bs4) (2.2.1)\n"
     ]
    },
    {
     "name": "stderr",
     "output_type": "stream",
     "text": [
      "WARNING: Value for scheme.headers does not match. Please report this to <https://github.com/pypa/pip/issues/9617>\n",
      "distutils: c:\\users\\dulce hogar\\appdata\\local\\programs\\python\\python39\\Include\\UNKNOWN\n",
      "sysconfig: c:\\users\\dulce hogar\\appdata\\local\\programs\\python\\python39\\Include\n",
      "WARNING: Additional context:\n",
      "user = False\n",
      "home = None\n",
      "root = None\n",
      "prefix = None\n",
      "WARNING: Value for scheme.headers does not match. Please report this to <https://github.com/pypa/pip/issues/9617>\n",
      "distutils: c:\\users\\dulce hogar\\appdata\\local\\programs\\python\\python39\\Include\\UNKNOWN\n",
      "sysconfig: c:\\users\\dulce hogar\\appdata\\local\\programs\\python\\python39\\Include\n",
      "WARNING: Additional context:\n",
      "user = False\n",
      "home = None\n",
      "root = None\n",
      "prefix = None\n"
     ]
    },
    {
     "name": "stdout",
     "output_type": "stream",
     "text": [
      "Requirement already satisfied: beautifulsoup4 in c:\\users\\dulce hogar\\appdata\\local\\programs\\python\\python39\\lib\\site-packages (4.9.3)\n",
      "Requirement already satisfied: soupsieve>1.2 in c:\\users\\dulce hogar\\appdata\\local\\programs\\python\\python39\\lib\\site-packages (from beautifulsoup4) (2.2.1)\n"
     ]
    },
    {
     "name": "stderr",
     "output_type": "stream",
     "text": [
      "WARNING: Value for scheme.headers does not match. Please report this to <https://github.com/pypa/pip/issues/9617>\n",
      "distutils: c:\\users\\dulce hogar\\appdata\\local\\programs\\python\\python39\\Include\\UNKNOWN\n",
      "sysconfig: c:\\users\\dulce hogar\\appdata\\local\\programs\\python\\python39\\Include\n",
      "WARNING: Additional context:\n",
      "user = False\n",
      "home = None\n",
      "root = None\n",
      "prefix = None\n",
      "WARNING: Value for scheme.headers does not match. Please report this to <https://github.com/pypa/pip/issues/9617>\n",
      "distutils: c:\\users\\dulce hogar\\appdata\\local\\programs\\python\\python39\\Include\\UNKNOWN\n",
      "sysconfig: c:\\users\\dulce hogar\\appdata\\local\\programs\\python\\python39\\Include\n",
      "WARNING: Additional context:\n",
      "user = False\n",
      "home = None\n",
      "root = None\n",
      "prefix = None\n"
     ]
    },
    {
     "name": "stdout",
     "output_type": "stream",
     "text": [
      "Requirement already satisfied: lxml in c:\\users\\dulce hogar\\appdata\\local\\programs\\python\\python39\\lib\\site-packages (4.6.3)\n"
     ]
    },
    {
     "name": "stderr",
     "output_type": "stream",
     "text": [
      "WARNING: Value for scheme.headers does not match. Please report this to <https://github.com/pypa/pip/issues/9617>\n",
      "distutils: c:\\users\\dulce hogar\\appdata\\local\\programs\\python\\python39\\Include\\UNKNOWN\n",
      "sysconfig: c:\\users\\dulce hogar\\appdata\\local\\programs\\python\\python39\\Include\n",
      "WARNING: Additional context:\n",
      "user = False\n",
      "home = None\n",
      "root = None\n",
      "prefix = None\n",
      "WARNING: Value for scheme.headers does not match. Please report this to <https://github.com/pypa/pip/issues/9617>\n",
      "distutils: c:\\users\\dulce hogar\\appdata\\local\\programs\\python\\python39\\Include\\UNKNOWN\n",
      "sysconfig: c:\\users\\dulce hogar\\appdata\\local\\programs\\python\\python39\\Include\n",
      "WARNING: Additional context:\n",
      "user = False\n",
      "home = None\n",
      "root = None\n",
      "prefix = None\n"
     ]
    },
    {
     "name": "stdout",
     "output_type": "stream",
     "text": [
      "Requirement already satisfied: html5lib in c:\\users\\dulce hogar\\appdata\\local\\programs\\python\\python39\\lib\\site-packages (1.1)\n",
      "Requirement already satisfied: six>=1.9 in c:\\users\\dulce hogar\\appdata\\local\\programs\\python\\python39\\lib\\site-packages (from html5lib) (1.15.0)\n",
      "Requirement already satisfied: webencodings in c:\\users\\dulce hogar\\appdata\\local\\programs\\python\\python39\\lib\\site-packages (from html5lib) (0.5.1)\n"
     ]
    },
    {
     "name": "stderr",
     "output_type": "stream",
     "text": [
      "WARNING: Value for scheme.headers does not match. Please report this to <https://github.com/pypa/pip/issues/9617>\n",
      "distutils: c:\\users\\dulce hogar\\appdata\\local\\programs\\python\\python39\\Include\\UNKNOWN\n",
      "sysconfig: c:\\users\\dulce hogar\\appdata\\local\\programs\\python\\python39\\Include\n",
      "WARNING: Additional context:\n",
      "user = False\n",
      "home = None\n",
      "root = None\n",
      "prefix = None\n",
      "WARNING: Value for scheme.headers does not match. Please report this to <https://github.com/pypa/pip/issues/9617>\n",
      "distutils: c:\\users\\dulce hogar\\appdata\\local\\programs\\python\\python39\\Include\\UNKNOWN\n",
      "sysconfig: c:\\users\\dulce hogar\\appdata\\local\\programs\\python\\python39\\Include\n",
      "WARNING: Additional context:\n",
      "user = False\n",
      "home = None\n",
      "root = None\n",
      "prefix = None\n"
     ]
    }
   ],
   "source": [
    "!pip install requests\n",
    "!pip install bs4\n",
    "!pip install beautifulsoup4\n",
    "!pip install lxml\n",
    "!pip install html5lib"
   ]
  },
  {
   "cell_type": "code",
   "execution_count": 2,
   "id": "68bc0cc1",
   "metadata": {},
   "outputs": [],
   "source": [
    "import requests\n",
    "from bs4 import BeautifulSoup"
   ]
  },
  {
   "cell_type": "code",
   "execution_count": 3,
   "id": "49ca47db",
   "metadata": {},
   "outputs": [],
   "source": [
    "baseurl = 'https://www.db.yugioh-card.com'"
   ]
  },
  {
   "cell_type": "code",
   "execution_count": 4,
   "id": "1a3301d1",
   "metadata": {},
   "outputs": [],
   "source": [
    "headers ={'User-Agent':'Mozilla/5.0 (iPhone; CPU iPhone OS 10_0 like Mac OS X) AppleWebKit/602.4.6 (KHTML, like Gecko) Version/10.0 Mobile/14A346 Safari/E7FBAF'}"
   ]
  },
  {
   "cell_type": "code",
   "execution_count": 5,
   "id": "f4013c73",
   "metadata": {},
   "outputs": [],
   "source": [
    "r = requests.get('https://www.db.yugioh-card.com/yugiohdb/card_search.action?ope=1&sess=1&pid=1202002000&rp=99999')"
   ]
  },
  {
   "cell_type": "code",
   "execution_count": 6,
   "id": "ec0b4cbf",
   "metadata": {},
   "outputs": [],
   "source": [
    "from lxml import etree\n",
    "import bs4"
   ]
  },
  {
   "cell_type": "code",
   "execution_count": 7,
   "id": "774144f0",
   "metadata": {},
   "outputs": [],
   "source": [
    "soup = BeautifulSoup(r.content, 'html.parser')"
   ]
  },
  {
   "cell_type": "code",
   "execution_count": 8,
   "id": "33ce8a56",
   "metadata": {},
   "outputs": [
    {
     "data": {
      "text/plain": [
       "87"
      ]
     },
     "execution_count": 8,
     "metadata": {},
     "output_type": "execute_result"
    }
   ],
   "source": [
    "productlist = soup.find_all(\"li\")\n",
    "len(productlist)"
   ]
  },
  {
   "cell_type": "markdown",
   "id": "98299c5d",
   "metadata": {},
   "source": [
    "**Enlaces web de las cartas**"
   ]
  },
  {
   "cell_type": "code",
   "execution_count": 9,
   "id": "34be6e82",
   "metadata": {},
   "outputs": [],
   "source": [
    "productlist2 =soup.find_all('input',class_=\"link_value\")"
   ]
  },
  {
   "cell_type": "code",
   "execution_count": 10,
   "id": "08687512",
   "metadata": {},
   "outputs": [
    {
     "data": {
      "text/plain": [
       "62"
      ]
     },
     "execution_count": 10,
     "metadata": {},
     "output_type": "execute_result"
    }
   ],
   "source": [
    "len(productlist2)"
   ]
  },
  {
   "cell_type": "code",
   "execution_count": 11,
   "id": "fae9a4aa",
   "metadata": {},
   "outputs": [],
   "source": [
    "productlinks2 = []\n",
    "for item in productlist2:\n",
    "    productlinks2.append(baseurl + item['value'])"
   ]
  },
  {
   "cell_type": "code",
   "execution_count": 12,
   "id": "dbb66fdd",
   "metadata": {
    "scrolled": true
   },
   "outputs": [
    {
     "name": "stdout",
     "output_type": "stream",
     "text": [
      "https://www.db.yugioh-card.com/yugiohdb/card_search.action?ope=2&cid=4041\n",
      "https://www.db.yugioh-card.com/yugiohdb/card_search.action?ope=2&cid=4044\n",
      "https://www.db.yugioh-card.com/yugiohdb/card_search.action?ope=2&cid=4045\n",
      "https://www.db.yugioh-card.com/yugiohdb/card_search.action?ope=2&cid=4013\n",
      "https://www.db.yugioh-card.com/yugiohdb/card_search.action?ope=2&cid=4033\n",
      "https://www.db.yugioh-card.com/yugiohdb/card_search.action?ope=2&cid=4047\n",
      "https://www.db.yugioh-card.com/yugiohdb/card_search.action?ope=2&cid=4071\n",
      "https://www.db.yugioh-card.com/yugiohdb/card_search.action?ope=2&cid=4080\n",
      "https://www.db.yugioh-card.com/yugiohdb/card_search.action?ope=2&cid=4015\n",
      "https://www.db.yugioh-card.com/yugiohdb/card_search.action?ope=2&cid=11963\n",
      "https://www.db.yugioh-card.com/yugiohdb/card_search.action?ope=2&cid=4916\n",
      "https://www.db.yugioh-card.com/yugiohdb/card_search.action?ope=2&cid=5651\n",
      "https://www.db.yugioh-card.com/yugiohdb/card_search.action?ope=2&cid=4064\n",
      "https://www.db.yugioh-card.com/yugiohdb/card_search.action?ope=2&cid=4434\n",
      "https://www.db.yugioh-card.com/yugiohdb/card_search.action?ope=2&cid=11964\n",
      "https://www.db.yugioh-card.com/yugiohdb/card_search.action?ope=2&cid=4370\n",
      "https://www.db.yugioh-card.com/yugiohdb/card_search.action?ope=2&cid=4676\n",
      "https://www.db.yugioh-card.com/yugiohdb/card_search.action?ope=2&cid=4837\n",
      "https://www.db.yugioh-card.com/yugiohdb/card_search.action?ope=2&cid=4857\n",
      "https://www.db.yugioh-card.com/yugiohdb/card_search.action?ope=2&cid=5290\n",
      "https://www.db.yugioh-card.com/yugiohdb/card_search.action?ope=2&cid=6269\n",
      "https://www.db.yugioh-card.com/yugiohdb/card_search.action?ope=2&cid=6999\n",
      "https://www.db.yugioh-card.com/yugiohdb/card_search.action?ope=2&cid=7220\n",
      "https://www.db.yugioh-card.com/yugiohdb/card_search.action?ope=2&cid=7739\n",
      "https://www.db.yugioh-card.com/yugiohdb/card_search.action?ope=2&cid=9138\n",
      "https://www.db.yugioh-card.com/yugiohdb/card_search.action?ope=2&cid=10426\n",
      "https://www.db.yugioh-card.com/yugiohdb/card_search.action?ope=2&cid=13281\n",
      "https://www.db.yugioh-card.com/yugiohdb/card_search.action?ope=2&cid=4355\n",
      "https://www.db.yugioh-card.com/yugiohdb/card_search.action?ope=2&cid=4862\n",
      "https://www.db.yugioh-card.com/yugiohdb/card_search.action?ope=2&cid=7008\n",
      "https://www.db.yugioh-card.com/yugiohdb/card_search.action?ope=2&cid=4043\n",
      "https://www.db.yugioh-card.com/yugiohdb/card_search.action?ope=2&cid=4739\n",
      "https://www.db.yugioh-card.com/yugiohdb/card_search.action?ope=2&cid=4048\n",
      "https://www.db.yugioh-card.com/yugiohdb/card_search.action?ope=2&cid=4387\n",
      "https://www.db.yugioh-card.com/yugiohdb/card_search.action?ope=2&cid=4731\n",
      "https://www.db.yugioh-card.com/yugiohdb/card_search.action?ope=2&cid=4733\n",
      "https://www.db.yugioh-card.com/yugiohdb/card_search.action?ope=2&cid=11982\n",
      "https://www.db.yugioh-card.com/yugiohdb/card_search.action?ope=2&cid=12146\n",
      "https://www.db.yugioh-card.com/yugiohdb/card_search.action?ope=2&cid=12431\n",
      "https://www.db.yugioh-card.com/yugiohdb/card_search.action?ope=2&cid=4735\n",
      "https://www.db.yugioh-card.com/yugiohdb/card_search.action?ope=2&cid=4734\n",
      "https://www.db.yugioh-card.com/yugiohdb/card_search.action?ope=2&cid=5475\n",
      "https://www.db.yugioh-card.com/yugiohdb/card_search.action?ope=2&cid=5476\n",
      "https://www.db.yugioh-card.com/yugiohdb/card_search.action?ope=2&cid=13465\n",
      "https://www.db.yugioh-card.com/yugiohdb/card_search.action?ope=2&cid=4929\n",
      "https://www.db.yugioh-card.com/yugiohdb/card_search.action?ope=2&cid=8649\n",
      "https://www.db.yugioh-card.com/yugiohdb/card_search.action?ope=2&cid=8759\n",
      "https://www.db.yugioh-card.com/yugiohdb/card_search.action?ope=2&cid=4737\n",
      "https://www.db.yugioh-card.com/yugiohdb/card_search.action?ope=2&cid=4802\n",
      "https://www.db.yugioh-card.com/yugiohdb/card_search.action?ope=2&cid=4798\n",
      "https://www.db.yugioh-card.com/yugiohdb/card_search.action?ope=2&cid=5474\n",
      "https://www.db.yugioh-card.com/yugiohdb/card_search.action?ope=2&cid=11902\n",
      "https://www.db.yugioh-card.com/yugiohdb/card_search.action?ope=2&cid=6272\n",
      "https://www.db.yugioh-card.com/yugiohdb/card_search.action?ope=2&cid=11905\n",
      "https://www.db.yugioh-card.com/yugiohdb/card_search.action?ope=2&cid=4863\n",
      "https://www.db.yugioh-card.com/yugiohdb/card_search.action?ope=2&cid=4988\n",
      "https://www.db.yugioh-card.com/yugiohdb/card_search.action?ope=2&cid=7230\n",
      "https://www.db.yugioh-card.com/yugiohdb/card_search.action?ope=2&cid=7489\n",
      "https://www.db.yugioh-card.com/yugiohdb/card_search.action?ope=2&cid=8353\n",
      "https://www.db.yugioh-card.com/yugiohdb/card_search.action?ope=2&cid=4740\n",
      "https://www.db.yugioh-card.com/yugiohdb/card_search.action?ope=2&cid=6996\n",
      "https://www.db.yugioh-card.com/yugiohdb/card_search.action?ope=2&cid=6980\n"
     ]
    }
   ],
   "source": [
    "for item in productlinks2:\n",
    "    print(item)"
   ]
  },
  {
   "cell_type": "markdown",
   "id": "3666b5b2",
   "metadata": {},
   "source": [
    "**Nombre de las cartas**"
   ]
  },
  {
   "cell_type": "code",
   "execution_count": 13,
   "id": "23a9f892",
   "metadata": {},
   "outputs": [],
   "source": [
    "productlist1 = soup.find_all('span',class_=\"card_status\")"
   ]
  },
  {
   "cell_type": "code",
   "execution_count": 14,
   "id": "d25c98c6",
   "metadata": {},
   "outputs": [
    {
     "data": {
      "text/plain": [
       "62"
      ]
     },
     "execution_count": 14,
     "metadata": {},
     "output_type": "execute_result"
    }
   ],
   "source": [
    "len(productlist1)"
   ]
  },
  {
   "cell_type": "code",
   "execution_count": 15,
   "id": "9ada738e",
   "metadata": {},
   "outputs": [],
   "source": [
    "productlinks =[]\n",
    "for item in productlist1:\n",
    "    for link in item.find_all('strong',class_= None):\n",
    "        for link2 in link:\n",
    "            productlinks.append(link2)"
   ]
  },
  {
   "cell_type": "code",
   "execution_count": 16,
   "id": "9916b6e4",
   "metadata": {
    "scrolled": true
   },
   "outputs": [
    {
     "name": "stdout",
     "output_type": "stream",
     "text": [
      "Dark Magician\n",
      "Gaia The Fierce Knight\n",
      "Curse of Dragon\n",
      "Winged Dragon, Guardian of the Fortress #1\n",
      "Beaver Warrior\n",
      "Celtic Guardian\n",
      "Silver Fang\n",
      "Giant Soldier of Stone\n",
      "Shadow Specter\n",
      "Charging Gaia the Fierce Knight\n",
      "Senju of the Thousand Hands\n",
      "Old Vindictive Magician\n",
      "Kuriboh\n",
      "Magician of Faith\n",
      "Sphere Kuriboh\n",
      "Black Luster Soldier\n",
      "Black Luster Ritual\n",
      "Polymerization\n",
      "Soul Release\n",
      "Spell Shattering Arrow\n",
      "Spiral Spear Strike\n",
      "Twister\n",
      "Summoner's Art\n",
      "Fighting Spirit\n",
      "White Elephant's Gift\n",
      "Goblin Circus\n",
      "Backup Squad\n",
      "Spellbinding Circle\n",
      "Magic Jammer\n",
      "Eliminating the League\n",
      "Gaia the Dragon Champion\n",
      "Thousand-Eyes Idol\n",
      "Illusionist Faceless Mage\n",
      "Toon Alligator\n",
      "Red Archery Girl\n",
      "Manga Ryu-Ran\n",
      "Toon Barrel Dragon\n",
      "Toon Buster Blader\n",
      "Toon Dark Magician\n",
      "Toon Summoned Skull\n",
      "Toon Mermaid\n",
      "Toon Masked Sorcerer\n",
      "Toon Gemini Elf\n",
      "Illusionist Faceless Magician\n",
      "Sonic Bird\n",
      "Djinn Prognosticator of Rituals\n",
      "Djinn Disserere of Rituals\n",
      "Relinquished\n",
      "Black Illusion Ritual\n",
      "Toon World\n",
      "Toon Table of Contents\n",
      "Toon Rollback\n",
      "Fulfillment of the Contract\n",
      "Toon Mask\n",
      "Seven Tools of the Bandit\n",
      "Dust Tornado\n",
      "Shield Spear\n",
      "Security Orb\n",
      "Skill Successor\n",
      "Thousand-Eyes Restrict\n",
      "Advanced Ritual Art\n",
      "D.D. Crow\n"
     ]
    }
   ],
   "source": [
    "for item in productlinks:\n",
    "    print(item)"
   ]
  },
  {
   "cell_type": "markdown",
   "id": "c30b3325",
   "metadata": {},
   "source": [
    "**tipo de cartas**"
   ]
  },
  {
   "cell_type": "code",
   "execution_count": 17,
   "id": "eb37398d",
   "metadata": {},
   "outputs": [],
   "source": [
    "productlist4 = soup.find_all('dd',class_= 'box_card_spec')"
   ]
  },
  {
   "cell_type": "code",
   "execution_count": 18,
   "id": "8dbb2ca1",
   "metadata": {},
   "outputs": [
    {
     "data": {
      "text/plain": [
       "62"
      ]
     },
     "execution_count": 18,
     "metadata": {},
     "output_type": "execute_result"
    }
   ],
   "source": [
    "len(productlist4)"
   ]
  },
  {
   "cell_type": "code",
   "execution_count": 19,
   "id": "ea822db8",
   "metadata": {},
   "outputs": [],
   "source": [
    "productlinks4=[]\n",
    "for item in productlist4:\n",
    "    productlinks4.append(item.img['title'])"
   ]
  },
  {
   "cell_type": "code",
   "execution_count": 20,
   "id": "905a47ae",
   "metadata": {
    "scrolled": true
   },
   "outputs": [
    {
     "name": "stdout",
     "output_type": "stream",
     "text": [
      "DARK\n",
      "EARTH\n",
      "DARK\n",
      "WIND\n",
      "EARTH\n",
      "EARTH\n",
      "EARTH\n",
      "EARTH\n",
      "DARK\n",
      "LIGHT\n",
      "LIGHT\n",
      "DARK\n",
      "DARK\n",
      "LIGHT\n",
      "DARK\n",
      "EARTH\n",
      "SPELL\n",
      "SPELL\n",
      "SPELL\n",
      "SPELL\n",
      "SPELL\n",
      "SPELL\n",
      "SPELL\n",
      "SPELL\n",
      "SPELL\n",
      "SPELL\n",
      "SPELL\n",
      "TRAP\n",
      "TRAP\n",
      "TRAP\n",
      "WIND\n",
      "DARK\n",
      "DARK\n",
      "WATER\n",
      "WATER\n",
      "FIRE\n",
      "DARK\n",
      "EARTH\n",
      "DARK\n",
      "DARK\n",
      "WATER\n",
      "DARK\n",
      "EARTH\n",
      "DARK\n",
      "WIND\n",
      "DARK\n",
      "DARK\n",
      "DARK\n",
      "SPELL\n",
      "SPELL\n",
      "SPELL\n",
      "SPELL\n",
      "SPELL\n",
      "TRAP\n",
      "TRAP\n",
      "TRAP\n",
      "TRAP\n",
      "TRAP\n",
      "TRAP\n",
      "DARK\n",
      "SPELL\n",
      "DARK\n"
     ]
    }
   ],
   "source": [
    "for item in productlinks4:\n",
    "    print(item)"
   ]
  },
  {
   "cell_type": "markdown",
   "id": "2a954480",
   "metadata": {},
   "source": [
    "**RDF**"
   ]
  },
  {
   "cell_type": "code",
   "execution_count": 21,
   "id": "a5f90f0c",
   "metadata": {},
   "outputs": [],
   "source": [
    "from rdflib import Graph,Literal,URIRef\n",
    "from rdflib import Namespace\n",
    "from rdflib.namespace import RDF, RDFS"
   ]
  },
  {
   "cell_type": "code",
   "execution_count": 22,
   "id": "e96cfe96",
   "metadata": {},
   "outputs": [],
   "source": [
    "n = Namespace(\"https://www.db.yugioh-card.com/yugiohdb/card_search.action?ope=1&sess=1&pid=1202002000&rp=99999\")"
   ]
  },
  {
   "cell_type": "code",
   "execution_count": 23,
   "id": "ceaf8e01",
   "metadata": {},
   "outputs": [],
   "source": [
    "g = Graph()"
   ]
  },
  {
   "cell_type": "code",
   "execution_count": 24,
   "id": "706de14f",
   "metadata": {},
   "outputs": [],
   "source": [
    "productlinks5 = list(set(productlinks4))"
   ]
  },
  {
   "cell_type": "code",
   "execution_count": 25,
   "id": "e44fb55a",
   "metadata": {},
   "outputs": [
    {
     "data": {
      "text/plain": [
       "8"
      ]
     },
     "execution_count": 25,
     "metadata": {},
     "output_type": "execute_result"
    }
   ],
   "source": [
    "len(productlinks5)"
   ]
  },
  {
   "cell_type": "code",
   "execution_count": 26,
   "id": "bd8fbfa8",
   "metadata": {},
   "outputs": [],
   "source": [
    "g = Graph()\n",
    "for item in productlinks5:\n",
    "    g.add((n.item,RDFS.subClassOf,n.card))\n",
    "for item in range(len(productlinks)):\n",
    "    name =productlinks4[item]\n",
    "    g.add((URIRef(productlinks2[item]),RDF.type,n.name))"
   ]
  },
  {
   "cell_type": "code",
   "execution_count": 27,
   "id": "23a03e08",
   "metadata": {},
   "outputs": [],
   "source": [
    "name = URIRef('characteristic:name')\n",
    "attribute = URIRef('characteristic:attribute')"
   ]
  },
  {
   "cell_type": "code",
   "execution_count": 28,
   "id": "74d0a699",
   "metadata": {},
   "outputs": [],
   "source": [
    "g.add((name, RDFS.subPropertyOf, RDFS.label))\n",
    "g.add((attribute, RDFS.subPropertyOf, RDFS.label))"
   ]
  },
  {
   "cell_type": "code",
   "execution_count": 29,
   "id": "fec9fa15",
   "metadata": {},
   "outputs": [],
   "source": [
    "g.add((name, RDFS.subPropertyOf, n.characteristic))\n",
    "g.add((attribute, RDFS.subPropertyOf, n.characteristic))"
   ]
  },
  {
   "cell_type": "code",
   "execution_count": 30,
   "id": "3f410bd9",
   "metadata": {
    "scrolled": false
   },
   "outputs": [
    {
     "name": "stdout",
     "output_type": "stream",
     "text": [
      "Predicado:\n",
      "http://www.w3.org/1999/02/22-rdf-syntax-ns#type\n",
      "http://www.w3.org/2000/01/rdf-schema#subClassOf\n",
      "http://www.w3.org/2000/01/rdf-schema#subPropertyOf\n",
      "http://www.w3.org/1999/02/22-rdf-syntax-ns#type\n",
      "http://www.w3.org/1999/02/22-rdf-syntax-ns#type\n",
      "http://www.w3.org/1999/02/22-rdf-syntax-ns#type\n",
      "http://www.w3.org/1999/02/22-rdf-syntax-ns#type\n",
      "http://www.w3.org/1999/02/22-rdf-syntax-ns#type\n",
      "http://www.w3.org/1999/02/22-rdf-syntax-ns#type\n",
      "http://www.w3.org/1999/02/22-rdf-syntax-ns#type\n",
      "http://www.w3.org/2000/01/rdf-schema#subPropertyOf\n"
     ]
    }
   ],
   "source": [
    "print(\"Predicado:\")\n",
    "for index,(sub,pred,obj) in enumerate(g):\n",
    "    print(pred)\n",
    "    if index==10:\n",
    "        break"
   ]
  },
  {
   "cell_type": "code",
   "execution_count": 31,
   "id": "e32247e0",
   "metadata": {},
   "outputs": [
    {
     "name": "stdout",
     "output_type": "stream",
     "text": [
      "Subclases de la subclase: Curse of Dragon\n",
      "None\n"
     ]
    }
   ],
   "source": [
    "nam = productlinks[2]\n",
    "print(\"Subclases de la subclase:\",nam)\n",
    "\n",
    "for s in g.transitive_objects(n.nam, RDFS.subClassOf):\n",
    "    print(g.value(s, name))"
   ]
  },
  {
   "cell_type": "code",
   "execution_count": 32,
   "id": "06e44f11",
   "metadata": {},
   "outputs": [],
   "source": [
    "def isSubClassOf(subClass, superClass, graph):\n",
    "    if subClass == superClass: return True\n",
    "    for parentClass in graph.objects(subClass, RDFS.subClassOf):\n",
    "        if isSubClassOf(parentClass, superClass, graph): return True\n",
    "        else:return False"
   ]
  },
  {
   "cell_type": "code",
   "execution_count": 33,
   "id": "76fdfc5e",
   "metadata": {},
   "outputs": [
    {
     "name": "stdout",
     "output_type": "stream",
     "text": [
      "<class 'rdflib.term.URIRef'>\n",
      "Valor:  True\n"
     ]
    }
   ],
   "source": [
    "a = productlinks5[2]\n",
    "c = productlinks5[3]\n",
    "print(type(n.a))\n",
    "valor=isSubClassOf(n.a, n.a, g)\n",
    "print(\"Valor: \",valor)"
   ]
  },
  {
   "cell_type": "code",
   "execution_count": 34,
   "id": "3339342f",
   "metadata": {},
   "outputs": [
    {
     "name": "stderr",
     "output_type": "stream",
     "text": [
      "Celtic Guardian does not look like a valid URI, trying to serialize this will break.\n"
     ]
    },
    {
     "name": "stdout",
     "output_type": "stream",
     "text": [
      "Instancias asociadas : Celtic Guardian\n",
      "None\n"
     ]
    }
   ],
   "source": [
    "nam = URIRef(productlinks[5])\n",
    "print(\"Instancias asociadas :\",nam)\n",
    "\n",
    "for s in g.transitive_objects(n.nam, RDF.type):\n",
    "    print(g.value(s, name))"
   ]
  },
  {
   "cell_type": "code",
   "execution_count": 35,
   "id": "6dcb1ea5",
   "metadata": {},
   "outputs": [
    {
     "name": "stdout",
     "output_type": "stream",
     "text": [
      "Dependencias inferiores a criatura: EARTH\n",
      "EARTH\n",
      "None\n"
     ]
    }
   ],
   "source": [
    "type_ =productlinks4[5]\n",
    "print(\"Dependencias inferiores a criatura:\",type_)\n",
    "\n",
    "print(type_)\n",
    "for s in g.transitive_subjects (RDFS.subClassOf,n.type_):\n",
    "    print(g.value(s, name))"
   ]
  },
  {
   "cell_type": "code",
   "execution_count": 36,
   "id": "ce59c517",
   "metadata": {},
   "outputs": [
    {
     "name": "stdout",
     "output_type": "stream",
     "text": [
      "Nombres de las criaturas asociadas al tipo: EARTH\n"
     ]
    }
   ],
   "source": [
    "type_ =productlinks4[5]\n",
    "print(\"Nombres de las criaturas asociadas al tipo:\",type_)\n",
    "for criatura in g.subjects(RDF.type,n.type_):\n",
    "    for nick in g.objects(n.type_,name):\n",
    "        print(nick)"
   ]
  },
  {
   "cell_type": "code",
   "execution_count": null,
   "id": "f8894e97",
   "metadata": {},
   "outputs": [],
   "source": []
  }
 ],
 "metadata": {
  "kernelspec": {
   "display_name": "Python 3",
   "language": "python",
   "name": "python3"
  },
  "language_info": {
   "codemirror_mode": {
    "name": "ipython",
    "version": 3
   },
   "file_extension": ".py",
   "mimetype": "text/x-python",
   "name": "python",
   "nbconvert_exporter": "python",
   "pygments_lexer": "ipython3",
   "version": "3.9.4"
  }
 },
 "nbformat": 4,
 "nbformat_minor": 5
}
