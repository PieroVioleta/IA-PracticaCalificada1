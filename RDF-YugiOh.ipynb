{
 "cells": [
  {
   "cell_type": "code",
   "execution_count": 1,
   "metadata": {},
   "outputs": [
    {
     "name": "stdout",
     "output_type": "stream",
     "text": [
      "Requirement already satisfied: rdflib in /home/renzoqamao/my_project_dir/my_project_env/lib/python3.8/site-packages (5.0.0)\n",
      "Requirement already satisfied: six in /home/renzoqamao/my_project_dir/my_project_env/lib/python3.8/site-packages (from rdflib) (1.15.0)\n",
      "Requirement already satisfied: isodate in /home/renzoqamao/my_project_dir/my_project_env/lib/python3.8/site-packages (from rdflib) (0.6.0)\n",
      "Requirement already satisfied: pyparsing in /home/renzoqamao/my_project_dir/my_project_env/lib/python3.8/site-packages (from rdflib) (2.4.7)\n",
      "\u001b[33mWARNING: You are using pip version 21.0.1; however, version 21.1 is available.\n",
      "You should consider upgrading via the '/home/renzoqamao/my_project_dir/my_project_env/bin/python -m pip install --upgrade pip' command.\u001b[0m\n"
     ]
    }
   ],
   "source": [
    "# instalando rdflib \n",
    "!pip3 install rdflib"
   ]
  },
  {
   "cell_type": "code",
   "execution_count": 2,
   "metadata": {},
   "outputs": [],
   "source": [
    "from rdflib import URIRef, BNode, Literal\n",
    "from rdflib import Namespace\n",
    "from rdflib.namespace import RDF, RDFS\n",
    "from rdflib import ConjunctiveGraph\n",
    "import pprint"
   ]
  },
  {
   "cell_type": "markdown",
   "metadata": {},
   "source": [
    "#  Yu-gi-Oh\n",
    "[Reglas del Juego](https://img.yugioh-card.com/es/rulebook/es.pdf)\n",
    "## Juego de cartas coleccionables.\n",
    "En este juego, dos jugadores se enfretan en Duelos utilizando una variedad de cartas de Monstruos, Mágicas y de trampa para derrotar a los monstruos de su adversario y ser el primero en reducir a o los *LF(life Points - Puntos de vida)* del otro.\n",
    "## Cómo lee una carta Monstruo\n",
    "1. Nombre de la carta\n",
    "2. Nivel (Número de estrellas)\n",
    "3. Atributo(Oscuridad, Tierra, Fuego, Luz, Agua, Viento)\n",
    "4. Tipo\n",
    "    1. Monstruos Normales\n",
    "    2. Monstruos de Efectos(Efecto Continuo,Efecto Encendido,Efecto Rápido, Efecto Disparado o Volteo)\n",
    "    3. Monstruos de Péndulo\n",
    "    4. Monstruos Xyz(tienen rango en lugar de nivel)\n",
    "    5. Monstruos de sincronia\n",
    "    6. Monstruos de Ritual\n",
    " \n",
    "5. Número de Carta\n",
    "6. ATK/DEF\n",
    "7. Descripción de la carta\n",
    "\n",
    "## Cómo lee una carta Mágica o de Trampa\n",
    "1. Nombre de la carta\n",
    "2. tipo(Magia o Trampa)\n",
    "3. icono(Equipo,Campo, Juego Rápido, Ritual, Continua,Contrafuego)\n",
    "4. Descripción de la carta\n",
    "5. Número de Carta\n",
    "\n",
    "# Como ganar un Duelo\n",
    "Cada jugador comienzo un duelo con 8000 LP. Ganar un duelo si se cumplen las siguientes condiciones \n",
    "1. Reduces los LIP de tu adversario a 0\n",
    "2. Tu oponente no tiene más cartas que robar\n",
    "3. Ganar con el efecto especial de una carta\n",
    "\n",
    "## Cartas\n",
    "\n",
    "### Cartas Monstruo\n",
    "1. Cartas de Monstruo Péndulo\n",
    "        Las cartas de monstruo de Pendulo puede ser invocadas como Cartas monstruos o mágicas.\n",
    "\n",
    "2. Cartas Monstruo de invocación XYZ\n",
    "        Los Materiales deben estar boca arriba para que pueda usarlo.\n",
    "\n",
    "3. Cartas Monstruo de Sincronía\n",
    "        Los Monstruos sincronian son invocados mandando una carta tipo Cantante al cementerio.\n",
    "\n",
    "4. Cartas Monstruos de Fusión\n",
    "        Los monstruos de fusión son invocados utilizando los monstruos especificos nombrados en la carta\n",
    "        combinados con una carta de invocación como \"Polimerización\".\n",
    "\n",
    "5. Cartas Monstruos de Ritual\n",
    "        Los monstruos de Ritual son monstruos especiales que son invocados de modo Especial con una carta\n",
    "        mágica de ritual especifica, además de un sacrificio requerido.\n",
    "\n",
    "6. Cartas Monstruos Normales\n",
    "\n",
    "### Cartas Magicas\n",
    "1. Carta Mágica de Ritual\n",
    "        Estas cartas se usan para realizar invocaciones por ritual.\n",
    "\n",
    "2. Cartas Mágicas Continua\n",
    "        Estas cartas permanecen en el Campo una vez que han sido activadas, y su efecto continua mientras\n",
    "        la carta permanezca boca arriba en el campo.\n",
    "3. Cartas Mágicas de Equipo\n",
    "        Esta carta da un efecto extra a un monstruo boca arriba.\n",
    "4. Cartas Mágicas de Campo\n",
    "        Estas cartas van en tu Zona del Campo y permanecen ahí. Cada jugador puede tener 1 Carta Mágica \n",
    "        de Campo en su lado del Campo.Para usar otra Carta Mágica de Campo, manda al Cementerio a la que \n",
    "        tenías previamente. Muchos efectos de Cartas Mágicas de Campo se aplican a AMBOS jugadores.\n",
    "5. Cartas Mágicas de Juego rápido\n",
    "        Estas cartas mágicas, se pueden activar en cualquier fase.\n",
    "6. Carta Magica normales\n",
    "\n",
    "### Carta Trampa\n",
    "A diferencia de las cartas mágicas estas se activa durante el turno de tu adversario.\n",
    "1. Cartas trampa Continua\n",
    "        Estas cartas se quedan en el campo una vez activadas\n",
    "2. Cartas trampa de Contraefecto\n",
    "        Estas cartas son activadas en respuesta de la activación de otra carta\n",
    "3. Cartas trampa normales"
   ]
  },
  {
   "cell_type": "markdown",
   "metadata": {},
   "source": []
  },
  {
   "cell_type": "code",
   "execution_count": null,
   "metadata": {},
   "outputs": [],
   "source": []
  }
 ],
 "metadata": {
  "kernelspec": {
   "display_name": "Python 3",
   "language": "python",
   "name": "python3"
  },
  "language_info": {
   "codemirror_mode": {
    "name": "ipython",
    "version": 3
   },
   "file_extension": ".py",
   "mimetype": "text/x-python",
   "name": "python",
   "nbconvert_exporter": "python",
   "pygments_lexer": "ipython3",
   "version": "3.8.5"
  }
 },
 "nbformat": 4,
 "nbformat_minor": 4
}
